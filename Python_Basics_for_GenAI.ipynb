{
  "nbformat": 4,
  "nbformat_minor": 0,
  "metadata": {
    "colab": {
      "provenance": [],
      "authorship_tag": "ABX9TyPiDDHVRgL9s8z+SKW5wOFC",
      "include_colab_link": true
    },
    "kernelspec": {
      "name": "python3",
      "display_name": "Python 3"
    },
    "language_info": {
      "name": "python"
    }
  },
  "cells": [
    {
      "cell_type": "markdown",
      "metadata": {
        "id": "view-in-github",
        "colab_type": "text"
      },
      "source": [
        "<a href=\"https://colab.research.google.com/github/ramansingh7/Machine-Learning/blob/main/Python_Basics_for_GenAI.ipynb\" target=\"_parent\"><img src=\"https://colab.research.google.com/assets/colab-badge.svg\" alt=\"Open In Colab\"/></a>"
      ]
    },
    {
      "cell_type": "code",
      "execution_count": null,
      "metadata": {
        "id": "dy70QUSKLKXC"
      },
      "outputs": [],
      "source": [
        "#PYTHON\n",
        "\"\"\"Python is a high-level, interpreted programming language.\n",
        "Known for its simplicity, readability, and versatility.\n",
        "Used in web development, data science, automation, AI/ML, etc.\n",
        "Why Python for GenAI?\n",
        "\n",
        "Python is the primary language used in AI and ML development due to its vast ecosystem of libraries\n",
        "(like TensorFlow, PyTorch, NumPy, Pandas) and active community support.\"\"\"\n",
        "\n",
        "\n",
        "#Integrated Development Environmen:\n",
        "\"\"\"You can use IDEs like PyCharm, VS Code, Jupyter Notebooks, or even simple text editors like Sublime Text.\"\"\"\n",
        "#we are using google collab, which is quite help full to save and manage your project on github,google drive.\n",
        "\n",
        "#ADVANTAGE OF USING PYTHON\n",
        "\"\"\"\n",
        "1. Easy to Learn:\n",
        "    Python has a very straightforward and readable syntax that’s similar to English.\n",
        "    This makes it easy for beginners to pick up and start coding quickly.\n",
        "2. Minimalistic Syntax:\n",
        "   Unlike other languages, Python doesn't require complex syntax.\n",
        "    This allows developers to focus on solving problems rather than dealing with intricate language-specific rules.\n",
        "3. AI/GenAI-Specific Advantages:\n",
        "    Pre-trained Models,\n",
        "    Automating Repetitive Tasks,\n",
        "    Rapid Experimentation:\n",
        "    Integration with Cloud Services\n",
        "\"\"\""
      ]
    },
    {
      "cell_type": "code",
      "source": [
        "#First program\n",
        "print(\"hello world\")"
      ],
      "metadata": {
        "colab": {
          "base_uri": "https://localhost:8080/"
        },
        "id": "pJ5zGRqYNPon",
        "outputId": "3ac9d52e-ba70-45e7-82fb-9355d9d1b420"
      },
      "execution_count": 4,
      "outputs": [
        {
          "output_type": "stream",
          "name": "stdout",
          "text": [
            "hello world\n"
          ]
        }
      ]
    },
    {
      "cell_type": "code",
      "source": [
        "#Data Types\n",
        "\"\"\"\n",
        "Types of data you will/could use in your program.\n",
        "Python support 5 data types:-\n",
        "1. None\n",
        "2. Numeric\n",
        "3. Text\n",
        "4. Sequenece\n",
        "5. Mapping,\n",
        "6. Set\n",
        "7. Boolean\n",
        "\n",
        "Data Type\tDescription\tExample\n",
        "int\t--->>  Integer                            \t                x = 10\n",
        "float\t--->> Floating-point number (decimal)       \t            y = 3.14\n",
        "complex\t--->>> Complex number (real + imaginary)                z = 1 + 2j\n",
        "str\t--->>>String (text)\t                                        name = \"Alice\"\n",
        "list\t--->>Ordered, mutable collection\t                        fruits = [\"apple\", \"banana\"]\n",
        "tuple\t----->>>immutable collection\t                            coordinates = (10, 20)\n",
        "dict\t----->>>Collection of key-value pairs\t                    person = {\"name\": \"John\"}\n",
        "set\t---->>>Unordered collection with unique elements\t          unique_numbers = {1, 2, 3}\n",
        "bool\t----->>>Boolean value (True or False)\t                    is_active = True\n",
        "None\t----->>>Represents the absence of a value\t                x = None\n",
        "\n",
        "\"\"\"\n"
      ],
      "metadata": {
        "id": "ZtV_QYuuOzzK"
      },
      "execution_count": null,
      "outputs": []
    },
    {
      "cell_type": "code",
      "source": [
        "#none type:-\n",
        "\"\"\"Represents the absence of a value or a null value.\n",
        "It is often used to signify that a variable has not been initialized or has no meaningful value.\"\"\"\n",
        "x=None\n",
        "print(type(x))"
      ],
      "metadata": {
        "colab": {
          "base_uri": "https://localhost:8080/"
        },
        "id": "Xt4xInjQRBOQ",
        "outputId": "53b50f59-fa95-4583-ad29-f5c5155019fc"
      },
      "execution_count": 6,
      "outputs": [
        {
          "output_type": "stream",
          "name": "stdout",
          "text": [
            "<class 'NoneType'>\n"
          ]
        }
      ]
    },
    {
      "cell_type": "code",
      "source": [
        "#Integer Type\n",
        "x=5\n",
        "print(x)\n",
        "print(type(x))\n",
        "#y=2\n",
        "#c=x+y+6\n",
        "#print(c)\n"
      ],
      "metadata": {
        "colab": {
          "base_uri": "https://localhost:8080/"
        },
        "id": "pa2aUFpDRlBH",
        "outputId": "fdffd77e-f06a-4df5-88f3-67a67a99bfc2"
      },
      "execution_count": 8,
      "outputs": [
        {
          "output_type": "stream",
          "name": "stdout",
          "text": [
            "5\n",
            "<class 'int'>\n",
            "13\n"
          ]
        }
      ]
    },
    {
      "cell_type": "code",
      "source": [
        "#String (str)\n",
        "x=\"hello world\"\n",
        "#print(x)\n",
        "#print(type(x))\n",
        "\n",
        "#y='Rishi'\n",
        "#print(x+' '+y)\n",
        "\n",
        "# Multi-line strings\n",
        "#multi_line_str = '''This is\n",
        "#a multi-line\n",
        "#string.'''\n",
        "\n",
        "#greeting = \"Hello\"\n",
        "#name = \"Alice\"\n",
        "#full_greeting = greeting + \" \" + name\n",
        "\n",
        "#Repetition: Repeating a string multiple times using the * operator.\n",
        "#repeated = \"Python! \" * 3\n",
        "\n",
        "#Indexing: Accessing individual characters in a string using square brackets [] (index starts from 0)\n",
        "#text = \"Hello\"\n",
        "#first_char = text[0]  # 'H'\n",
        "#last_char = text[-1]  #'o'\n",
        "\n",
        "#Slicing: Extracting a substring from a string using the slice notation start:stop (inclusive of start, exclusive of stop)\n",
        "#text = \"Hello, World!\"\n",
        "#substring = text[0:5]  # \"Hello\"\n",
        "\n",
        "#len() - Get the Length of a String\n",
        "#text = \"Hello, World!\"\n",
        "#print(len(text))  # 13\n",
        "\n",
        "#upper() - Convert to Uppercase\n",
        "#text = \"hello\"\n",
        "#print(text.upper())  # \"HELLO\"\n",
        "\n",
        "#lower() - Convert to Lowercase\n",
        "#text = \"HELLO\"\n",
        "#print(text.lower())  # \"hello\"\n",
        "\n",
        "#capitalize() - Capitalize the First Letter\n",
        "#text = \"hello world\"\n",
        "#print(text.capitalize())  # \"Hello world\"\n",
        "\n",
        "#title() - Convert to Title Case\n",
        "#text = \"hello world\"\n",
        "#print(text.title())  # \"Hello World\"\n",
        "\n",
        "#strip() - Remove Whitespace\n",
        "#text = \"   Hello, World!   \"\n",
        "#print(text.strip())  # \"Hello, World!\"\n",
        "\n",
        "#replace() - Replace Substring\n",
        "#text = \"Hello, World!\"\n",
        "#new_text = text.replace(\"World\", \"Python\")  # \"Hello, Python!\"\n",
        "\n",
        "#split() - Split String into a List\n",
        "#text = \"Hello, World!\"\n",
        "#words = text.split(\",\")  # [\"Hello\", \" World!\"]\n",
        "\n",
        "#join() - Join List Elements into a String\n",
        "#words = [\"Hello\", \"World\"]\n",
        "#sentence = \" \".join(words)  # \"Hello World\"\n",
        "\n",
        "#find() - Find the Index of a Substring\n",
        "#text = \"Hello, World!\"\n",
        "#index = text.find(\"World\")  # 7\n",
        "\n",
        "#count() - Count Occurrences of Substring\n",
        "#text = \"Hello, World! Hello again!\"\n",
        "#count = text.count(\"Hello\")  # 2\n",
        "\n",
        "#startswith() - Check if the String Starts with a Substring\n",
        "#text = \"Hello, World!\"\n",
        "#print(text.startswith(\"Hello\"))  # True\n",
        "\n",
        "#endswith() - Check if the String Ends with a Substring\n",
        "#text = \"Hello, World!\"\n",
        "#print(text.endswith(\"World!\"))  # True\n",
        "\n",
        "#isalpha() - Check if All Characters are Alphabetic\n",
        "#text = \"Hello\"\n",
        "#print(text.isalpha())  # True\n",
        "\n",
        "#isdigit() - Check if All Characters are Digits\n",
        "#text = \"12345\"\n",
        "#print(text.isdigit())  # True\n",
        "\n",
        "#isalnum() - Check if All Characters are Alphanumeric\n",
        "#text = \"Hello123\"\n",
        "#print(text.isalnum())  # True\n",
        "\n",
        "#format() - String Formatting:- Used for inserting values into a string with placeholders.\n",
        "#name = \"Alice\"\n",
        "#age = 30\n",
        "#text = \"My name is {} and I am {} years old.\".format(name, age)\n",
        "#print(text)  # \"My name is Alice and I am 30 years old.\"\n",
        "\n",
        "#text = f\"My name is {name} and I am {age} years old.\"\n",
        "#print(text)  # \"My name is Alice and I am 30 years old.\"\n",
        "\n",
        "\n",
        "# Original string\n",
        "#text = \"   Hello, World! Welcome to Python.   \"\n",
        "\n",
        "# Strip whitespace\n",
        "#stripped_text = text.strip()\n",
        "#print(\"Stripped:\", stripped_text)  # \"Hello, World! Welcome to Python.\"\n",
        "\n",
        "# Convert to uppercase\n",
        "#upper_text = stripped_text.upper()\n",
        "#print(\"Uppercase:\", upper_text)  # \"HELLO, WORLD! WELCOME TO PYTHON.\"\n",
        "\n",
        "# Find the position of a substring\n",
        "#index = stripped_text.find(\"World\")\n",
        "#print(\"Index of 'World':\", index)  # 7\n",
        "\n",
        "# Replace 'Python' with 'AI'\n",
        "#replaced_text = stripped_text.replace(\"Python\", \"AI\")\n",
        "#print(\"Replaced:\", replaced_text)  # \"Hello, World! Welcome to AI.\"\n",
        "\n",
        "# Split the string into words\n",
        "#words = stripped_text.split()\n",
        "#print(\"Words:\", words)  # ['Hello,', 'World!', 'Welcome', 'to', 'Python.']\n",
        "\n"
      ],
      "metadata": {
        "colab": {
          "base_uri": "https://localhost:8080/"
        },
        "id": "lQJbTRJwR8Ns",
        "outputId": "4d0721b9-aa24-489c-b11e-ec68317d2dc7"
      },
      "execution_count": 13,
      "outputs": [
        {
          "output_type": "stream",
          "name": "stdout",
          "text": [
            "hello world\n",
            "<class 'str'>\n",
            "hello world Rishi\n",
            "13\n",
            "HELLO\n",
            "hello\n",
            "Hello world\n",
            "Hello World\n",
            "Hello, World!\n",
            "True\n",
            "True\n",
            "True\n",
            "True\n",
            "True\n",
            "My name is Alice and I am 30 years old.\n",
            "My name is Alice and I am 30 years old.\n",
            "Stripped: Hello, World! Welcome to Python.\n",
            "Uppercase: HELLO, WORLD! WELCOME TO PYTHON.\n",
            "Index of 'World': 7\n",
            "Replaced: Hello, World! Welcome to AI.\n",
            "Words: ['Hello,', 'World!', 'Welcome', 'to', 'Python.']\n"
          ]
        }
      ]
    },
    {
      "cell_type": "code",
      "source": [
        "#list (List)\n",
        "\"\"\"\n",
        "A list is an ordered, mutable (modifiable) collection of elements.\n",
        "Lists are one of the most commonly used data types in Python because they are versatile and can store elements of any data type,\n",
        "including other lists.\n",
        "\n",
        "Key Characteristics of Lists:\n",
        "Ordered: The elements in a list have a defined order, and that order will not change unless you modify the list.\n",
        "Mutable: Lists can be changed after they are created.\n",
        "Heterogeneous: Lists can contain elements of different types (e.g., numbers, strings, objects).\n",
        "\"\"\"\n",
        "\n",
        "fruits = [\"apple\", \"banana\", \"cherry\"]  # List with string elements\n",
        "#numbers = [1, 2, 3, 4, 5]  # List with integer elements\n",
        "#mixed = [1, \"apple\", 3.14, True]  # List with mixed data types\n",
        "\n",
        "#Accessing Elements\n",
        "#print(fruits[0])  # \"apple\"\n",
        "#print(fruits[-1])  # \"cherry\" (negative index counts from the end)\n",
        "\n",
        "#Modifying Elements:\n",
        "#fruits[1] = \"blueberry\"  # Modifies \"banana\" to \"blueberry\"\n",
        "#print(fruits)  # [\"apple\", \"blueberry\", \"cherry\"]\n",
        "#Appending\n",
        "#fruits.append(\"orange\")\n",
        "#print(fruits)  # [\"apple\", \"blueberry\", \"cherry\", \"orange\"]\n",
        "\n",
        "#Inserting\n",
        "#fruits.insert(1, \"kiwi\")  # Inserts \"kiwi\" at index 1\n",
        "#print(fruits)  # [\"apple\", \"kiwi\", \"blueberry\", \"cherry\", \"orange\"]\n",
        "\n",
        "#Removing Elements\n",
        "#fruits.remove(\"blueberry\")\n",
        "print(fruits)  # [\"apple\", \"kiwi\", \"cherry\", \"orange\"]\n",
        "\n",
        "#Popping:\n",
        "#popped_item = fruits.pop(2)  # Removes and returns the element at index 2\n",
        "#print(fruits)  # [\"apple\", \"kiwi\", \"orange\"]\n",
        "#print(popped_item)  # \"cherry\"\n",
        "\n",
        "#Length\n",
        "#print(len(fruits))  # 3\n",
        "\n",
        "#Slicing\n",
        "#print(fruits[1:3])  # ['kiwi', 'orange']\n"
      ],
      "metadata": {
        "colab": {
          "base_uri": "https://localhost:8080/"
        },
        "id": "debuA8UQVIwp",
        "outputId": "48366464-8228-4929-8925-253a3b895400"
      },
      "execution_count": 31,
      "outputs": [
        {
          "output_type": "stream",
          "name": "stdout",
          "text": [
            "['apple', 'banana', 'cherry']\n"
          ]
        }
      ]
    },
    {
      "cell_type": "code",
      "source": [
        "# Tuple\n",
        "\"\"\"\n",
        "A tuple is similar to a list, but unlike lists, tuples are immutable, meaning once they are created,\n",
        "they cannot be modified. Tuples are generally used to store data that should not be changed during the execution of the program.\n",
        "\n",
        "Key Characteristics of Tuples:\n",
        "Ordered: The elements in a tuple have a defined order.\n",
        "Immutable: Once a tuple is created, its elements cannot be changed, added, or removed.\n",
        "Heterogeneous: Tuples can contain elements of different data types, just like lists.\n",
        "\"\"\"\n",
        "\n",
        "coordinates = (10, 20)  # Tuple with two integer elements\n",
        "#colors = (\"red\", \"green\", \"blue\")  # Tuple with string elements\n",
        "#mixed_tuple = (1, \"apple\", 3.14)  # Tuple with mixed types\n",
        "\n",
        "#Accessing Elements\n",
        "#print(coordinates[0])  # 10\n",
        "#print(colors[-1])  # \"blue\"\n",
        "\n",
        "#Concatenation\n",
        "#new_tuple = coordinates + colors  # (10, 20, \"red\", \"green\", \"blue\")\n",
        "\n",
        "#Repetition\n",
        "#repeated_tuple = (1, 2) * 3  # (1, 2, 1, 2, 1, 2)\n",
        "\n",
        "#Length\n",
        "#print(len(coordinates))  # 2\n",
        "\n",
        "#Slicing\n",
        "#print(colors[1:])  # (\"green\", \"blue\")\n",
        "\n",
        "#Nested Tuples\n",
        "#nested_tuple = (1, (2, 3), 4)\n",
        "#print(nested_tuple[1])  # (2, 3)\n",
        "\n",
        "#Immutability\n",
        "# This will raise an error:\n",
        "# coordinates[0] = 100\n"
      ],
      "metadata": {
        "colab": {
          "base_uri": "https://localhost:8080/"
        },
        "id": "Wmfj5f1iRuxh",
        "outputId": "7252e108-4e3f-46fb-d55d-dd9f08f095b4"
      },
      "execution_count": 15,
      "outputs": [
        {
          "output_type": "stream",
          "name": "stdout",
          "text": [
            "10\n",
            "blue\n",
            "2\n",
            "('green', 'blue')\n",
            "(2, 3)\n"
          ]
        }
      ]
    },
    {
      "cell_type": "code",
      "source": [
        "r = range(5)  # Generates numbers from 0 to 4\n",
        "#print(list(r))  # [0, 1, 2, 3, 4]\n",
        "\n",
        "#r = range(1, 6)  # Generates numbers from 1 to 5\n",
        "#print(list(r))  # [1, 2, 3, 4, 5]\n",
        "\n",
        "#r = range(0, 10, 2)  # Generates numbers from 0 to 8 with a step of 2\n",
        "#print(list(r))  # [0, 2, 4, 6, 8]\n"
      ],
      "metadata": {
        "colab": {
          "base_uri": "https://localhost:8080/"
        },
        "id": "TIOK38ZiW56-",
        "outputId": "8017d6e4-85e6-4d87-f357-e73b02c4a34c"
      },
      "execution_count": 16,
      "outputs": [
        {
          "output_type": "stream",
          "name": "stdout",
          "text": [
            "[0, 1, 2, 3, 4]\n",
            "[1, 2, 3, 4, 5]\n",
            "[0, 2, 4, 6, 8]\n"
          ]
        }
      ]
    },
    {
      "cell_type": "code",
      "source": [
        "#Dictonary\n",
        "\"\"\"\n",
        "A dictionary in Python is an unordered collection of key-value pairs. Each key in a dictionary must be unique,\n",
        " and it is used to retrieve its corresponding value.\n",
        "\n",
        "Key Characteristics of Dictionaries:\n",
        "Unordered.       In Python 3.7 and above, dictionaries maintain insertion order, meaning that the order in which you add items is preserved.\n",
        "Mutable:         Dictionaries can be modified after creation (you can add, update, or remove key-value pairs).\n",
        "Indexed by keys: Unlike lists or tuples that are indexed by numbers, dictionaries are indexed by keys,\n",
        "                 which can be of any immutable type (strings, numbers, tuples, etc.).\n",
        "Key-Value Pair:  Each entry in the dictionary consists of a key and a value, separated by a colon (:).\n",
        "\n",
        "\"\"\"\n",
        "\n",
        "#Creating a Dictionary:\n",
        "\"\"\"You can create a dictionary using curly braces {} or the built-in dict() function.\"\"\"\n",
        "# Creating a dictionary using curly braces\n",
        "person = {\"name\": \"Alice\", \"age\": 30, \"city\": \"New York\"}\n",
        "\n",
        "# Creating a dictionary using the dict() constructor\n",
        "#person = dict(name=\"Alice\", age=30, city=\"New York\")\n",
        "\n",
        "#Accessing Values:\n",
        "# Accessing by key\n",
        "#print(person[\"name\"])  # Output: Alice\n",
        "\n",
        "# Using get() method (doesn't throw an error if key is not found)\n",
        "#print(person.get(\"age\"))  # Output: 30\n",
        "#print(person.get(\"country\", \"Unknown\"))  # Output: Unknown (default value)\n",
        "\n",
        "#Modifying a Dictionary\n",
        "#person[\"country\"] = \"USA\"  # Adds a new key-value pair\n",
        "#person[\"age\"] = 31         # Updates the value associated with \"age\"\n",
        "\n",
        "#Removing Key-Value Pairs\n",
        "#del person[\"city\"]  # Removes the \"city\" key-value pair\n",
        "#age = person.pop(\"age\")  # Removes \"age\" and returns its value\n",
        "#print(age)  # Output: 31\n",
        "\n",
        "\n",
        "#Common Dictionary Methods\n",
        "#keys(): Returns a view of all keys in the dictionary.\n",
        "\n",
        "#keys = person.keys()\n",
        "#print(keys)  # dict_keys(['name', 'country'])\n",
        "\n",
        "#values(): Returns a view of all values in the dictionary.\n",
        "#values = person.values()\n",
        "#print(values)  # dict_values(['Alice', 'USA'])\n",
        "\n",
        "\n",
        "#items(): Returns a view of all key-value pairs as tuples.\n",
        "#items = person.items()\n",
        "#print(items)  # dict_items([('name', 'Alice'), ('country', 'USA')])\n",
        "\n",
        "\n",
        "#clear(): Removes all items from the dictionary.\n",
        "#person.clear()\n",
        "#print(person)  # {}\n",
        "\n",
        "#update(): Updates the dictionary with key-value pairs from another dictionary\n",
        "#or an iterable of key-value pairs.\n",
        "\n",
        "#person.update({\"age\": 30, \"city\": \"Los Angeles\"})\n",
        "#print(person)  # {\"name\": \"Alice\", \"country\": \"USA\", \"age\": 30, \"city\": \"Los Angeles\"}\n",
        "\n",
        "#Iterating through a Dictionary:\n",
        "\n",
        "#Looping over keys:\n",
        "#for key in person:\n",
        "#    print(key)  # prints keys: 'name', 'country', 'age', 'city'\n",
        "#Looping over values:\n",
        "#for key in person:\n",
        "#    print(key)  # prints keys: 'name', 'country', 'age', 'city'\n",
        "\n",
        "#Looping over key-value pairs:\n",
        "#for key, value in person.items():\n",
        "#    print(key, value)\n",
        "\n",
        "#Nested Dictionaries:\n",
        "#You can have dictionaries inside dictionaries, which is useful for representing complex data structures.\n",
        "#person = {\n",
        "#    \"name\": \"Alice\",\n",
        "#    \"address\": {\n",
        "#        \"street\": \"123 Main St\",\n",
        "#        \"city\": \"New York\"\n",
        "#    }\n",
        "#}\n",
        "#print(person[\"address\"][\"city\"])  # Output: New York\n",
        "\n",
        "\n"
      ],
      "metadata": {
        "colab": {
          "base_uri": "https://localhost:8080/"
        },
        "id": "WgjgelAgW8Yo",
        "outputId": "f5f1ed20-b85b-4e55-faa8-10b05a8994ae"
      },
      "execution_count": 18,
      "outputs": [
        {
          "output_type": "stream",
          "name": "stdout",
          "text": [
            "Alice\n",
            "30\n",
            "Unknown\n",
            "31\n",
            "dict_keys(['name', 'country'])\n",
            "dict_values(['Alice', 'USA'])\n",
            "dict_items([('name', 'Alice'), ('country', 'USA')])\n",
            "{}\n",
            "{'age': 30, 'city': 'Los Angeles'}\n",
            "age\n",
            "city\n",
            "age\n",
            "city\n",
            "age 30\n",
            "city Los Angeles\n",
            "New York\n"
          ]
        }
      ]
    },
    {
      "cell_type": "code",
      "source": [
        "#Set:- stores Unordered, Mutable, Unique elements.\n",
        "\n",
        "# Creating a set using curly braces\n",
        "#fruits = {\"apple\", \"banana\", \"cherry\"}\n",
        "\n",
        "# Creating a set using the set() function\n",
        "#numbers = set([1, 2, 3, 4, 5])\n",
        "\n",
        "#Adding Elements\n",
        "#fruits.add(\"orange\")  # Adds \"orange\" to the set\n",
        "#print(fruits)  # Output: {'apple', 'banana', 'cherry', 'orange'}\n",
        "\n",
        "#Removing Elements\n",
        "#fruits.remove(\"banana\")  # Removes \"banana\"\n",
        "#fruits.discard(\"kiwi\")  # Does nothing since \"kiwi\" is not in the set\n",
        "\n",
        "#Set Operations:\n",
        "#Union (|): Combines two sets, removing duplicates.\n",
        "#set1 = {1, 2, 3}\n",
        "#set2 = {3, 4, 5}\n",
        "#union_set = set1 | set2  # {1, 2, 3, 4, 5}\n",
        "\n",
        "# Intersection (&): Finds common elements between two sets.\n",
        "#intersection_set = set1 & set2  # {3}\n",
        "\n",
        "#Difference (-): Finds elements that are in the first set but not in the second.\n",
        "#difference_set = set1 - set2  # {1, 2}\n",
        "\n",
        "#Symmetric Difference (^): Finds elements that are in either set but not in both.\n",
        "#symmetric_diff_set = set1 ^ set2  # {1, 2, 4, 5}\n",
        "\n",
        "#Length: You can get the number of elements in a set using len().\n",
        "#print(len(fruits))  # Output: 4\n",
        "\n",
        "#print(\"apple\" in fruits)  # Output: True\n",
        "#print(\"grape\" in fruits)  # Output: False\n",
        "\n",
        "#set1 = {1, 2, 3, 4}\n",
        "#set2 = {3, 4, 5, 6}\n",
        "\n",
        "#print(set1 & set2)  # Output: {3, 4} (intersection)\n",
        "#print(set1 | set2)  # Output: {1, 2, 3, 4, 5, 6} (union)\n",
        "#print(set1 - set2)  # Output: {1, 2} (difference)\n",
        "#print(set1 ^ set2)  # Output: {1, 2, 5, 6} (symmetric difference)\n",
        "\n"
      ],
      "metadata": {
        "colab": {
          "base_uri": "https://localhost:8080/"
        },
        "id": "zGhnUk8IZq4h",
        "outputId": "21c2806e-3b7d-41ed-a33c-8b26befcc232"
      },
      "execution_count": 19,
      "outputs": [
        {
          "output_type": "stream",
          "name": "stdout",
          "text": [
            "{'cherry', 'banana', 'orange', 'apple'}\n",
            "3\n",
            "True\n",
            "False\n",
            "{3, 4}\n",
            "{1, 2, 3, 4, 5, 6}\n",
            "{1, 2}\n",
            "{1, 2, 5, 6}\n"
          ]
        }
      ]
    },
    {
      "cell_type": "code",
      "source": [
        "#Boolean\n",
        "#a = True\n",
        "#b = False\n",
        "\n",
        "#print(type(a))  # <class 'bool'>\n",
        "#print(type(b))  # <class 'bool'>\n",
        "\n",
        "#True and True  # Output: True\n",
        "#True and False  # Output: False\n",
        "\n",
        "#True or False  # Output: True\n",
        "#False or False  # Output: False\n",
        "\n",
        "#not True  # Output: False\n",
        "#not False  # Output: True\n",
        "\n",
        "#3x = 10\n",
        "\n",
        "#if x > 5:\n",
        "#    print(\"x is greater than 5\")  # This will be printed because x is 10, which is greater than 5\n",
        "#else:\n",
        "#    print(\"x is not greater than 5\")\n",
        "\n",
        "\n",
        "#if []:\n",
        "#    print(\"This list is truthy\")\n",
        "#else:\n",
        "#    print(\"This list is falsy\")  # Output: This list is falsy\n",
        "\n",
        "#if 10:\n",
        "#    print(\"This number is truthy\")  # Output: This number is truthy\n",
        "#else:\n",
        "#    print(\"This number is falsy\")\n",
        "\n"
      ],
      "metadata": {
        "colab": {
          "base_uri": "https://localhost:8080/"
        },
        "id": "ocFYKx-7acV3",
        "outputId": "59f163a7-a93b-4718-bece-1488b7447fb7"
      },
      "execution_count": 21,
      "outputs": [
        {
          "output_type": "stream",
          "name": "stdout",
          "text": [
            "<class 'bool'>\n",
            "<class 'bool'>\n",
            "x is greater than 5\n",
            "This list is falsy\n",
            "This number is truthy\n"
          ]
        }
      ]
    },
    {
      "cell_type": "code",
      "source": [
        "#5 == 5  # Output: True\n",
        "#5 == 3  # Output: False\n",
        "\n",
        "#5 != 3  # Output: True\n",
        "#5 != 5  # Output: False\n",
        "\n",
        "#10 > 5  # Output: True\n",
        "#3 < 2  # Output: False\"\"\""
      ],
      "metadata": {
        "colab": {
          "base_uri": "https://localhost:8080/"
        },
        "id": "aOgJRO8sbHAa",
        "outputId": "caf243fb-f592-4b66-f3b4-ba7059c2b42b"
      },
      "execution_count": 29,
      "outputs": [
        {
          "output_type": "execute_result",
          "data": {
            "text/plain": [
              "True"
            ]
          },
          "metadata": {},
          "execution_count": 29
        }
      ]
    },
    {
      "cell_type": "code",
      "source": [
        "\"\"\"\n",
        "for loop: Iterates over a sequence (like a list, tuple, set, dictionary, or string) or a range of numbers.\n",
        "while loop: Repeats as long as a given condition is True.\n",
        "\"\"\"\n",
        "fruits = [\"apple\", \"banana\", \"cherry\"]\n",
        "\n",
        "for fruit in fruits:\n",
        "    print(fruit)\n"
      ],
      "metadata": {
        "colab": {
          "base_uri": "https://localhost:8080/"
        },
        "id": "IzAEK0W3dVLS",
        "outputId": "18cf6de5-c37b-4ff9-9a53-7a8bdc123441"
      },
      "execution_count": 32,
      "outputs": [
        {
          "output_type": "stream",
          "name": "stdout",
          "text": [
            "apple\n",
            "banana\n",
            "cherry\n"
          ]
        }
      ]
    },
    {
      "cell_type": "code",
      "source": [
        "for i in range(5):  # Generates numbers from 0 to 4\n",
        "    print(i)\n"
      ],
      "metadata": {
        "colab": {
          "base_uri": "https://localhost:8080/"
        },
        "id": "v07kYmM5d4wC",
        "outputId": "c4c51bf8-36fd-4934-e772-a1617b13deba"
      },
      "execution_count": 33,
      "outputs": [
        {
          "output_type": "stream",
          "name": "stdout",
          "text": [
            "0\n",
            "1\n",
            "2\n",
            "3\n",
            "4\n"
          ]
        }
      ]
    },
    {
      "cell_type": "code",
      "source": [
        "for i in range(2, 10, 2):  # Starts at 2, goes up to 9, and increments by 2\n",
        "    print(i)\n"
      ],
      "metadata": {
        "colab": {
          "base_uri": "https://localhost:8080/"
        },
        "id": "QptkcNlVd8S6",
        "outputId": "f5d7a93a-49cc-4c38-cfa8-6eabd7dcacbb"
      },
      "execution_count": 34,
      "outputs": [
        {
          "output_type": "stream",
          "name": "stdout",
          "text": [
            "2\n",
            "4\n",
            "6\n",
            "8\n"
          ]
        }
      ]
    },
    {
      "cell_type": "code",
      "source": [
        "person = {\"name\": \"Alice\", \"age\": 30, \"city\": \"New York\"}\n",
        "\n",
        "for key, value in person.items():\n",
        "    print(key, \":\", value)\n"
      ],
      "metadata": {
        "colab": {
          "base_uri": "https://localhost:8080/"
        },
        "id": "7n3aa7a2d_7y",
        "outputId": "92071bc0-c81e-4894-8a42-84d3bfea6e74"
      },
      "execution_count": 35,
      "outputs": [
        {
          "output_type": "stream",
          "name": "stdout",
          "text": [
            "name : Alice\n",
            "age : 30\n",
            "city : New York\n"
          ]
        }
      ]
    },
    {
      "cell_type": "code",
      "source": [
        "count = 0\n",
        "\n",
        "while count < 5:\n",
        "    print(count)\n",
        "    count += 1  # Increment count by 1 each time\n"
      ],
      "metadata": {
        "colab": {
          "base_uri": "https://localhost:8080/"
        },
        "id": "uUn3lBBVeE92",
        "outputId": "e23d75ce-1929-48f7-ff25-dc069798268a"
      },
      "execution_count": 37,
      "outputs": [
        {
          "output_type": "stream",
          "name": "stdout",
          "text": [
            "0\n",
            "1\n",
            "2\n",
            "3\n",
            "4\n"
          ]
        }
      ]
    },
    {
      "cell_type": "code",
      "source": [
        "for i in range(5):\n",
        "    if i == 3:\n",
        "        continue  # Skip this iteration when i equals 3\n",
        "    print(i)\n"
      ],
      "metadata": {
        "colab": {
          "base_uri": "https://localhost:8080/"
        },
        "id": "5StR623deq-m",
        "outputId": "08621a70-56df-4b60-85c4-bc1c2f468c36"
      },
      "execution_count": 41,
      "outputs": [
        {
          "output_type": "stream",
          "name": "stdout",
          "text": [
            "0\n",
            "1\n",
            "2\n",
            "4\n"
          ]
        }
      ]
    },
    {
      "cell_type": "code",
      "source": [
        "# Infinite loop example (stopping it manually or using a condition)\n",
        "while True:\n",
        "    print(\"This loop will run forever!\")\n",
        "    break  # Breaks out of the infinite loop after one iteration\n"
      ],
      "metadata": {
        "colab": {
          "base_uri": "https://localhost:8080/"
        },
        "id": "HG57r1ffeOvC",
        "outputId": "60d881a3-6616-467d-9992-a0b032907430"
      },
      "execution_count": 38,
      "outputs": [
        {
          "output_type": "stream",
          "name": "stdout",
          "text": [
            "This loop will run forever!\n"
          ]
        }
      ]
    },
    {
      "cell_type": "code",
      "source": [
        "for i in range(5):\n",
        "    if i == 3:\n",
        "        break\n",
        "    print(i)\n",
        "else:\n",
        "    print(\"Loop completed without a break.\")\n"
      ],
      "metadata": {
        "colab": {
          "base_uri": "https://localhost:8080/"
        },
        "id": "1vpDmwhEeunu",
        "outputId": "6030684d-cb07-482a-acf9-4d6916b71d44"
      },
      "execution_count": 42,
      "outputs": [
        {
          "output_type": "stream",
          "name": "stdout",
          "text": [
            "0\n",
            "1\n",
            "2\n"
          ]
        }
      ]
    },
    {
      "cell_type": "code",
      "source": [
        "for i in range(3):\n",
        "    for j in range(2):\n",
        "        print(f\"i = {i}, j = {j}\")\n"
      ],
      "metadata": {
        "colab": {
          "base_uri": "https://localhost:8080/"
        },
        "id": "Cy1g4cqUebU9",
        "outputId": "ddedf6ec-5445-4320-e8f9-ed07e4eee59e"
      },
      "execution_count": 39,
      "outputs": [
        {
          "output_type": "stream",
          "name": "stdout",
          "text": [
            "i = 0, j = 0\n",
            "i = 0, j = 1\n",
            "i = 1, j = 0\n",
            "i = 1, j = 1\n",
            "i = 2, j = 0\n",
            "i = 2, j = 1\n"
          ]
        }
      ]
    },
    {
      "cell_type": "code",
      "source": [
        "i = 0\n",
        "while i < 3:\n",
        "    j = 0\n",
        "    while j < 2:\n",
        "        print(f\"i = {i}, j = {j}\")\n",
        "        j += 1\n",
        "    i += 1\n"
      ],
      "metadata": {
        "colab": {
          "base_uri": "https://localhost:8080/"
        },
        "id": "wTCTL1_yeeeS",
        "outputId": "7ccf1256-ad33-49a9-d06f-f50ebd0dc742"
      },
      "execution_count": 40,
      "outputs": [
        {
          "output_type": "stream",
          "name": "stdout",
          "text": [
            "i = 0, j = 0\n",
            "i = 0, j = 1\n",
            "i = 1, j = 0\n",
            "i = 1, j = 1\n",
            "i = 2, j = 0\n",
            "i = 2, j = 1\n"
          ]
        }
      ]
    },
    {
      "cell_type": "markdown",
      "source": [],
      "metadata": {
        "id": "IKcJ4Ui_ME2t"
      }
    },
    {
      "cell_type": "code",
      "source": [
        "#Function\n",
        "\"\"\"\n",
        "A function is a block of reusable code that performs a specific task. Functions allow you\n",
        "to encapsulate code so that it can be reused without rewriting it multiple times.\n",
        "Functions can take input parameters, process them, and return output.\n",
        "\n",
        "Defining a Function\n",
        "You define a function using the def keyword, followed by the function name, parentheses for parameters, and a colon.\n",
        "  \"\"\""
      ],
      "metadata": {
        "id": "2aiFf4tSe8yf"
      },
      "execution_count": null,
      "outputs": []
    },
    {
      "cell_type": "code",
      "source": [
        "def greet(name):\n",
        "    return f\"Hello, {name}!\"\n",
        "\n",
        "# Calling the function\n",
        "print(greet(\"Alice\"))  # Output: Hello, Alice!\n"
      ],
      "metadata": {
        "colab": {
          "base_uri": "https://localhost:8080/"
        },
        "id": "u56ck3N8fRjx",
        "outputId": "64db75b0-b0e9-4f59-e664-51bce02a7b41"
      },
      "execution_count": 43,
      "outputs": [
        {
          "output_type": "stream",
          "name": "stdout",
          "text": [
            "Hello, Alice!\n"
          ]
        }
      ]
    },
    {
      "cell_type": "code",
      "source": [
        "def say_hello():\n",
        "    print(\"Hello, World!\")\n",
        "\n",
        "# Calling the function\n",
        "say_hello()  # Output: Hello, World!\n"
      ],
      "metadata": {
        "colab": {
          "base_uri": "https://localhost:8080/"
        },
        "id": "_R4wY3WUfZBE",
        "outputId": "843752de-9a78-4818-c79e-973730e9aeec"
      },
      "execution_count": 44,
      "outputs": [
        {
          "output_type": "stream",
          "name": "stdout",
          "text": [
            "Hello, World!\n"
          ]
        }
      ]
    },
    {
      "cell_type": "code",
      "source": [
        "def add_numbers(a, b):\n",
        "    return a + b\n",
        "\n",
        "# Calling the function\n",
        "result = add_numbers(5, 3)\n",
        "print(result)  # Output: 8\n"
      ],
      "metadata": {
        "id": "beGp32blfdYr"
      },
      "execution_count": null,
      "outputs": []
    },
    {
      "cell_type": "code",
      "source": [
        "def no_return():\n",
        "    print(\"This function doesn't return anything.\")\n",
        "\n",
        "result = no_return()\n",
        "print(result)  # Output: None\n"
      ],
      "metadata": {
        "id": "lbwIJAEJfh9G"
      },
      "execution_count": null,
      "outputs": []
    },
    {
      "cell_type": "code",
      "source": [
        "def greet(name=\"Guest\"):\n",
        "    return f\"Hello, {name}!\"\n",
        "\n",
        "print(greet())        # Output: Hello, Guest!\n",
        "print(greet(\"Bob\"))   # Output: Hello, Bob!\n"
      ],
      "metadata": {
        "id": "FThZXTYQfkmG"
      },
      "execution_count": null,
      "outputs": []
    },
    {
      "cell_type": "code",
      "source": [
        "def sum_all(*args):\n",
        "    return sum(args)\n",
        "\n",
        "print(sum_all(1, 2, 3))  # Output: 6\n",
        "print(sum_all(4, 5, 6, 7))  # Output: 22\n"
      ],
      "metadata": {
        "id": "KyVXdGAjfsHY"
      },
      "execution_count": null,
      "outputs": []
    },
    {
      "cell_type": "code",
      "source": [
        "def print_info(**kwargs):\n",
        "    for key, value in kwargs.items():\n",
        "        print(f\"{key}: {value}\")\n",
        "\n",
        "print_info(name=\"Alice\", age=30, city=\"New York\")\n",
        "# Output:\n",
        "# name: Alice\n",
        "# age: 30\n",
        "# city: New York\n"
      ],
      "metadata": {
        "id": "PuW0LgtdfolL"
      },
      "execution_count": null,
      "outputs": []
    },
    {
      "cell_type": "code",
      "source": [
        "#Method\n",
        "\"\"\"\n",
        "A method is essentially a function that is associated with an object.\n",
        "Methods are called on objects or instances of a class, and they typically operate on data contained within the object.\n",
        "\n",
        "Defining a Method\n",
        "Methods are defined inside a class, and they typically have at least one parameter: self, which refers to the instance of the object.\n",
        "\"\"\"\n",
        "\n",
        "\n"
      ],
      "metadata": {
        "id": "B8NVOw8GfuK_"
      },
      "execution_count": null,
      "outputs": []
    },
    {
      "cell_type": "code",
      "source": [
        "#self: A reference to the current instance of the class.\n",
        "#It allows the method to access the attributes and other methods of the class.\n",
        "class MyClass:\n",
        "    def my_method(self, param):\n",
        "        # code block\n",
        "        return f\"Received: {param}\"\n",
        "\n",
        "# Creating an instance of the class\n",
        "obj = MyClass()\n",
        "\n",
        "# Calling the method\n",
        "print(obj.my_method(\"Test\"))  # Output: Received: Test"
      ],
      "metadata": {
        "id": "rQUpVhqAgF2G"
      },
      "execution_count": null,
      "outputs": []
    },
    {
      "cell_type": "code",
      "source": [
        "class Calculator:\n",
        "    def add(self, a, b):\n",
        "        return a + b\n",
        "\n",
        "    def subtract(self, a, b):\n",
        "        return a - b\n",
        "\n",
        "calc = Calculator()\n",
        "print(calc.add(5, 3))      # Output: 8\n",
        "print(calc.subtract(5, 3)) # Output: 2\n"
      ],
      "metadata": {
        "id": "ZdeiPNelgPsI"
      },
      "execution_count": null,
      "outputs": []
    },
    {
      "cell_type": "code",
      "source": [
        "class Person:\n",
        "    def __init__(self, name, age):\n",
        "        self.name = name\n",
        "        self.age = age\n",
        "\n",
        "    def greet(self):\n",
        "        return f\"Hello, my name is {self.name} and I am {self.age} years old.\"\n",
        "\n",
        "    def have_birthday(self):\n",
        "        self.age += 1\n",
        "\n",
        "person = Person(\"Alice\", 30)\n",
        "print(person.greet())  # Output: Hello, my name is Alice and I am 30 years old.\n",
        "person.have_birthday()\n",
        "print(person.greet())  # Output: Hello, my name is Alice and I am 31 years old.\n"
      ],
      "metadata": {
        "id": "77LpTIaxgSOX"
      },
      "execution_count": null,
      "outputs": []
    }
  ]
}